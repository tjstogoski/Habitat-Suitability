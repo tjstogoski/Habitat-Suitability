{
 "cells": [
  {
   "cell_type": "markdown",
   "metadata": {},
   "source": [
    "# Habitat Suitability of *Tsuga canadensis* (L.) Eastern Hemlock\n",
    "\n",
    "Eastern hemlock is a member of the Pine family (Pinaceae) native to northeastern and Appalachian regions of North America. It is a slow growing tree that may take 300 years to reach maturity and then may live beyond 900 years. Additionally, the Eastern hemlock is a host for at least <a href=\"https://nativeplantfinder.nwf.org/Plants/3396\" target=\"_blank\">90 species of butterflies and moths</a>. However, the tree's range is expected to decline due to a combination of global climate change and pressure from <a href=\"https://plants.usda.gov/DocumentLibrary/plantguide/pdf/cs_tsca.pdf\" target=\"_blank\">the Asian hemlock woolly adelgid</a>.\n",
    "\n",
    "This analysis examines the future habitat suitability for Eastern Hemlock under different climate change scenarios within George Washington National Forest and Jefferson National Forest. The sites were chosen because of their continuous range, stretching most of the range of Virginia's Appalachian region. The two climate change scenarios, described in the <a href=\"https://www.ipcc.ch/site/assets/uploads/2018/04/ipcc_ar5_leaflet.pdf\" target=\"_blank\">IPCC Fifth Assessment Report (AR5)</a>, project future greenhouse gas concentrations. RCP 4.5 is described as an intermediate scenario where emissions peak around 2040. RCP describes a scenario where emissions continue to rise throughout the 21st century and is generally the basis of a worst-case climate change scenario.\n",
    "\n",
    "The analysis employs a fuzzy logic model using a <a href=\"https://www.mathworks.com/help/fuzzy/gaussmf.html\" target=\"_blank\">Gaussian membership function</a> to assign suitability scores between 0 and 1 for raster data of the following variables:\n",
    "* Soil pH - taken at 30-60 cm in depth and obtained from the <a href=\"http://hydrology.cee.duke.edu/POLARIS/PROPERTIES/v1.0/\" target=\"_blank\">Polaris dataset</a>.\n",
    "* Topographic slope - derived from elevation data of the SRTMGL1 NASA Shuttle Radar Topography Mission Global 1 arc second V003 dataset through the [earthaccess API](https://github.com/nsidc/earthaccess/).\n",
    "* Precipitation - from the <a href=\"http://thredds.northwestknowledge.net:8080/thredds/reacch_climate_CMIP5_macav2_catalog2.html\" target=\"_blank\">MACAv2 THREDDS data server</a>. This analysis uses Bei-jing Normal University Earth System Model for projected climate data of the end of the 21st century.\n",
    "\n",
    "Tolerable variable ranges for *Tsuga canadensis* were obtained from <a href=\"https://plants.usda.gov/plant-profile/TSCA\" target=\"_blank\">USDA Plants Database</a> for Soil pH and Precipitation needs. Optimal values were derived by taking an average of the upper and lower thresholds. Slope preference of *Tsuga canadensis* is described in <a href=\"https://www.srs.fs.usda.gov/pubs/ja/ja_narayanaraj001.pdf\" target=\"_blank\">Narayanaraj, Bolstad, Elliott, and Vose, 2010</a>.\n",
    "\n",
    "## Results\n",
    "![Habitat Suitability of Tsuga canadensis George Washington National Forest under RCP 4.5](TSCA_GWNF_RCP45.jpg) ![Habitat Suitability of Tsuga canadensis George Washington National Forest under RCP 8.5](TSCA_GWNF_RCP85.jpg)\n",
    "\n",
    "Though much of George Washington National Forest will remain habitable for *Tsuga canadensis* at the end of the century, a decrease in habitat is expected if emissions continue to rise as described by the RCP 8.5 scenario. However, the Southeastern region of the forest may see an increase in Eastern hemlock, possibly due to a wetter climate.\n",
    "\n",
    "![Habitat Suitability of Tsuga canadensis Jefferson National Forest under RCP 4.5](TSCA_JNF_RCP45.jpg) ![Habitat Suitability of Tsuga canadensis Jefferson National Forest under RCP 8.5](TSCA_JNF_RCP85.jpg)\n",
    "\n",
    "Unfortunately, an error occurred during the processing of the raster layers for Jefferson National Forest, resulting in only the Northeastern tip of the forest being shown. However, we can still see similarity to George Washington National Forest, where overall habitat may decline in quality but Eastern regions may see an increase in available habitat for Eastern hemlock. This will be looked at again when I next revist the project.\n",
    "\n",
    "**Formal data citations to come**\n",
    "\n",
    "<a href=\"https://github.com/tjstogoski/Habitat-Suitability\" target=\"_blank\">See the full project here</a>"
   ]
  }
 ],
 "metadata": {
  "kernelspec": {
   "display_name": "earth-analytics-python",
   "language": "python",
   "name": "python3"
  },
  "language_info": {
   "name": "python",
   "version": "3.11.10"
  }
 },
 "nbformat": 4,
 "nbformat_minor": 2
}
