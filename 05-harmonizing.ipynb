{
 "cells": [
  {
   "cell_type": "code",
   "execution_count": 44,
   "metadata": {},
   "outputs": [],
   "source": [
    "%store -r"
   ]
  },
  {
   "cell_type": "code",
   "execution_count": 45,
   "metadata": {},
   "outputs": [],
   "source": [
    "import os\n",
    "import pathlib\n",
    "from glob import glob\n",
    "\n",
    "import geopandas as gpd\n",
    "import matplotlib.pyplot as plt\n",
    "import pandas as pd\n",
    "import rioxarray as rxr\n",
    "import rioxarray.merge as rxrmerge\n",
    "import xarray as xr"
   ]
  },
  {
   "cell_type": "markdown",
   "metadata": {},
   "source": [
    "# Harmonize your data\n",
    " Make sure that the grids for each of your layers match up. Check out the ds.rio.reproject_match() method from rioxarray."
   ]
  },
  {
   "cell_type": "code",
   "execution_count": 46,
   "metadata": {},
   "outputs": [
    {
     "name": "stdout",
     "output_type": "stream",
     "text": [
      "<class 'pandas.core.frame.DataFrame'>\n",
      "RangeIndex: 4 entries, 0 to 3\n",
      "Data columns (total 9 columns):\n",
      " #   Column            Non-Null Count  Dtype \n",
      "---  ------            --------------  ----- \n",
      " 0   site_name         4 non-null      object\n",
      " 1   soil_variable     4 non-null      object\n",
      " 2   soil_da           4 non-null      object\n",
      " 3   elevation_da      4 non-null      object\n",
      " 4   slope_da          4 non-null      object\n",
      " 5   climate_variable  4 non-null      object\n",
      " 6   climate_scenario  4 non-null      object\n",
      " 7   start_year        4 non-null      int64 \n",
      " 8   climate_da        4 non-null      object\n",
      "dtypes: int64(1), object(8)\n",
      "memory usage: 420.0+ bytes\n"
     ]
    }
   ],
   "source": [
    "# List of DataFrames to loop through\n",
    "dfs = [soil_df, topo_df, MACAv2_df]\n",
    "\n",
    "forest_df = dfs[0]\n",
    "\n",
    "for merging_df in dfs[1:]:\n",
    "    # Join DataFrames\n",
    "    forest_df = pd.merge(forest_df, merging_df, on='site_name')\n",
    "\n",
    "forest_df.info()"
   ]
  },
  {
   "cell_type": "code",
   "execution_count": 47,
   "metadata": {},
   "outputs": [],
   "source": [
    "maca_da_repr_list = []\n",
    "\n",
    "for i in range(len(MACAv2_df)):\n",
    "\n",
    "    maca_da_orig = (\n",
    "        MACAv2_df.iloc[i]['climate_da']\n",
    "        .rio.write_crs(4326)\n",
    "        .rio.set_spatial_dims('lat', 'lon')\n",
    "        .groupby('time.year')\n",
    "        .sum()\n",
    "        .min('year')\n",
    "    )\n",
    "    maca_da_repr = maca_da_orig.rio.reproject_match(topo_df.elevation_da[0])\n",
    "    maca_da_repr_list.append(maca_da_repr)\n",
    "\n"
   ]
  },
  {
   "cell_type": "code",
   "execution_count": 48,
   "metadata": {},
   "outputs": [],
   "source": [
    "MACAv2_df['climate_da'] = maca_da_repr_list"
   ]
  },
  {
   "cell_type": "code",
   "execution_count": 49,
   "metadata": {},
   "outputs": [],
   "source": [
    "def print_raster(raster):\n",
    "    print(\n",
    "        f\"shape: {raster.rio.shape}\\n\"\n",
    "        f\"resolution: {raster.rio.resolution()}\\n\"\n",
    "        f\"bounds: {raster.rio.bounds()}\\n\"\n",
    "        f\"sum: {raster.sum().item()}\\n\"\n",
    "        f\"CRS: {raster.rio.crs}\\n\"\n",
    "    )"
   ]
  },
  {
   "cell_type": "code",
   "execution_count": 50,
   "metadata": {},
   "outputs": [
    {
     "data": {
      "text/plain": [
       "<Geographic 2D CRS: EPSG:4269>\n",
       "Name: NAD83\n",
       "Axis Info [ellipsoidal]:\n",
       "- Lat[north]: Geodetic latitude (degree)\n",
       "- Lon[east]: Geodetic longitude (degree)\n",
       "Area of Use:\n",
       "- name: North America - onshore and offshore: Canada - Alberta; British Columbia; Manitoba; New Brunswick; Newfoundland and Labrador; Northwest Territories; Nova Scotia; Nunavut; Ontario; Prince Edward Island; Quebec; Saskatchewan; Yukon. Puerto Rico. United States (USA) - Alabama; Alaska; Arizona; Arkansas; California; Colorado; Connecticut; Delaware; Florida; Georgia; Hawaii; Idaho; Illinois; Indiana; Iowa; Kansas; Kentucky; Louisiana; Maine; Maryland; Massachusetts; Michigan; Minnesota; Mississippi; Missouri; Montana; Nebraska; Nevada; New Hampshire; New Jersey; New Mexico; New York; North Carolina; North Dakota; Ohio; Oklahoma; Oregon; Pennsylvania; Rhode Island; South Carolina; South Dakota; Tennessee; Texas; Utah; Vermont; Virginia; Washington; West Virginia; Wisconsin; Wyoming. US Virgin Islands. British Virgin Islands.\n",
       "- bounds: (167.65, 14.92, -40.73, 86.45)\n",
       "Datum: North American Datum 1983\n",
       "- Ellipsoid: GRS 1980\n",
       "- Prime Meridian: Greenwich"
      ]
     },
     "execution_count": 50,
     "metadata": {},
     "output_type": "execute_result"
    }
   ],
   "source": [
    "site_list[0].geometry.crs"
   ]
  },
  {
   "cell_type": "code",
   "execution_count": 51,
   "metadata": {},
   "outputs": [
    {
     "name": "stdout",
     "output_type": "stream",
     "text": [
      "shape: (6082, 7461)\n",
      "resolution: (0.0002777777777777779, -0.0002777777777777775)\n",
      "bounds: (-80.33375, 37.494305555555556, -78.26125, 39.18375)\n",
      "sum: 48335790080.0\n",
      "CRS: EPSG:4326\n",
      "\n"
     ]
    }
   ],
   "source": [
    "print_raster(maca_da)"
   ]
  },
  {
   "cell_type": "code",
   "execution_count": 52,
   "metadata": {},
   "outputs": [
    {
     "name": "stdout",
     "output_type": "stream",
     "text": [
      "shape: (4421, 13272)\n",
      "resolution: (0.0002777777777751535, -0.00027777777777515666)\n",
      "bounds: (-83.05333333334227, 36.59444444445772, -79.36666666671043, 37.82250000000168)\n",
      "sum: 299177632.0\n",
      "CRS: EPSG:4326\n",
      "\n"
     ]
    }
   ],
   "source": [
    "print_raster(soil_df.soil_da.values[1])"
   ]
  },
  {
   "cell_type": "code",
   "execution_count": 53,
   "metadata": {},
   "outputs": [
    {
     "name": "stdout",
     "output_type": "stream",
     "text": [
      "shape: (6082, 7461)\n",
      "resolution: (0.0002777777777777781, -0.0002777777777777777)\n",
      "bounds: (-80.33375, 37.494305555555556, -78.26125, 39.18375)\n",
      "sum: 26534074368.0\n",
      "CRS: EPSG:4326\n",
      "\n"
     ]
    }
   ],
   "source": [
    "print_raster(topo_df.elevation_da.values[0])"
   ]
  },
  {
   "cell_type": "code",
   "execution_count": 54,
   "metadata": {},
   "outputs": [
    {
     "name": "stdout",
     "output_type": "stream",
     "text": [
      "shape: (6082, 7461)\n",
      "resolution: (0.0002777777777777779, -0.0002777777777777775)\n",
      "bounds: (-80.33375, 37.494305555555556, -78.26125, 39.18375)\n",
      "sum: 145385824.0\n",
      "CRS: EPSG:4326\n",
      "\n"
     ]
    }
   ],
   "source": [
    "print_raster(topo_df.slope_da.values[0])"
   ]
  },
  {
   "cell_type": "code",
   "execution_count": 55,
   "metadata": {},
   "outputs": [
    {
     "name": "stdout",
     "output_type": "stream",
     "text": [
      "shape: (6082, 7461)\n",
      "resolution: (0.0002777777777777779, -0.0002777777777777775)\n",
      "bounds: (-80.33375, 37.494305555555556, -78.26125, 39.18375)\n",
      "sum: 53029683200.0\n",
      "CRS: EPSG:4326\n",
      "\n"
     ]
    }
   ],
   "source": [
    "print_raster(MACAv2_df.climate_da.values[0])"
   ]
  }
 ],
 "metadata": {
  "kernelspec": {
   "display_name": "earth-analytics-python",
   "language": "python",
   "name": "python3"
  },
  "language_info": {
   "codemirror_mode": {
    "name": "ipython",
    "version": 3
   },
   "file_extension": ".py",
   "mimetype": "text/x-python",
   "name": "python",
   "nbconvert_exporter": "python",
   "pygments_lexer": "ipython3",
   "version": "3.11.10"
  }
 },
 "nbformat": 4,
 "nbformat_minor": 2
}
