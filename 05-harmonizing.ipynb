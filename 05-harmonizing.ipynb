{
 "cells": [
  {
   "cell_type": "code",
   "execution_count": 44,
   "metadata": {},
   "outputs": [],
   "source": [
    "%store -r"
   ]
  },
  {
   "cell_type": "code",
   "execution_count": 45,
   "metadata": {},
   "outputs": [],
   "source": [
    "import matplotlib.pyplot as plt\n",
    "import pandas as pd\n",
    "import rioxarray as rxr\n",
    "import rioxarray.merge as rxrmerge\n",
    "import xarray as xr"
   ]
  },
  {
   "cell_type": "markdown",
   "metadata": {},
   "source": [
    "# Harmonize your data\n",
    " Make sure that the grids for each of your layers match up. Check out the ds.rio.reproject_match() method from rioxarray."
   ]
  },
  {
   "cell_type": "code",
   "execution_count": 47,
   "metadata": {},
   "outputs": [],
   "source": [
    "maca_da_repr_list = []\n",
    "\n",
    "for i in range(len(MACAv2_df)):\n",
    "\n",
    "    maca_da_orig = (\n",
    "        MACAv2_df.iloc[i]['climate_da']\n",
    "        .rio.write_crs(4326)\n",
    "        .rio.set_spatial_dims('lat', 'lon')\n",
    "        .groupby('time.year')\n",
    "        .sum()\n",
    "        .min('year')\n",
    "    )\n",
    "    maca_da_repr = maca_da_orig.rio.reproject_match(topo_df.elevation_da[0])\n",
    "    maca_da_repr_list.append(maca_da_repr)\n",
    "\n"
   ]
  },
  {
   "cell_type": "code",
   "execution_count": 48,
   "metadata": {},
   "outputs": [],
   "source": [
    "MACAv2_df['climate_da'] = maca_da_repr_list"
   ]
  },
  {
   "cell_type": "code",
   "execution_count": 61,
   "metadata": {},
   "outputs": [],
   "source": [
    "soil_da_repr_list = []\n",
    "\n",
    "for i in range(len(soil_df)):\n",
    "\n",
    "    soil_da_orig = (\n",
    "        soil_df.iloc[i]['soil_da'])\n",
    "    soil_da_repr = soil_da_orig.rio.reproject_match(topo_df.elevation_da[0])\n",
    "    soil_da_repr_list.append(soil_da_repr)"
   ]
  },
  {
   "cell_type": "code",
   "execution_count": 62,
   "metadata": {},
   "outputs": [],
   "source": [
    "soil_df['soil_da'] = soil_da_repr_list"
   ]
  },
  {
   "cell_type": "code",
   "execution_count": 66,
   "metadata": {},
   "outputs": [],
   "source": [
    "slope_da_repr_list = []\n",
    "\n",
    "for i in range(len(topo_df)):\n",
    "\n",
    "    slope_da_orig = (\n",
    "        topo_df.iloc[i]['slope_da'])\n",
    "    slope_da_repr = slope_da_orig.rio.reproject_match(topo_df.elevation_da[0])\n",
    "    slope_da_repr_list.append(slope_da_repr)"
   ]
  },
  {
   "cell_type": "code",
   "execution_count": 67,
   "metadata": {},
   "outputs": [],
   "source": [
    "topo_df['slope_da'] = slope_da_repr_list"
   ]
  },
  {
   "cell_type": "code",
   "execution_count": 68,
   "metadata": {},
   "outputs": [
    {
     "name": "stdout",
     "output_type": "stream",
     "text": [
      "<class 'pandas.core.frame.DataFrame'>\n",
      "RangeIndex: 4 entries, 0 to 3\n",
      "Data columns (total 9 columns):\n",
      " #   Column            Non-Null Count  Dtype \n",
      "---  ------            --------------  ----- \n",
      " 0   site_name         4 non-null      object\n",
      " 1   soil_variable     4 non-null      object\n",
      " 2   soil_da           4 non-null      object\n",
      " 3   elevation_da      4 non-null      object\n",
      " 4   slope_da          4 non-null      object\n",
      " 5   climate_variable  4 non-null      object\n",
      " 6   climate_scenario  4 non-null      object\n",
      " 7   start_year        4 non-null      int64 \n",
      " 8   climate_da        4 non-null      object\n",
      "dtypes: int64(1), object(8)\n",
      "memory usage: 420.0+ bytes\n"
     ]
    }
   ],
   "source": [
    "# List of DataFrames to loop through\n",
    "dfs = [soil_df, topo_df, MACAv2_df]\n",
    "\n",
    "forest_df = dfs[0]\n",
    "\n",
    "for merging_df in dfs[1:]:\n",
    "    # Join DataFrames\n",
    "    forest_df = pd.merge(forest_df, merging_df, on='site_name')\n",
    "\n",
    "forest_df.info()"
   ]
  },
  {
   "cell_type": "code",
   "execution_count": 58,
   "metadata": {},
   "outputs": [
    {
     "data": {
      "text/html": [
       "<div>\n",
       "<style scoped>\n",
       "    .dataframe tbody tr th:only-of-type {\n",
       "        vertical-align: middle;\n",
       "    }\n",
       "\n",
       "    .dataframe tbody tr th {\n",
       "        vertical-align: top;\n",
       "    }\n",
       "\n",
       "    .dataframe thead th {\n",
       "        text-align: right;\n",
       "    }\n",
       "</style>\n",
       "<table border=\"1\" class=\"dataframe\">\n",
       "  <thead>\n",
       "    <tr style=\"text-align: right;\">\n",
       "      <th></th>\n",
       "      <th>site_name</th>\n",
       "      <th>soil_variable</th>\n",
       "      <th>soil_da</th>\n",
       "      <th>elevation_da</th>\n",
       "      <th>slope_da</th>\n",
       "      <th>climate_variable</th>\n",
       "      <th>climate_scenario</th>\n",
       "      <th>start_year</th>\n",
       "      <th>climate_da</th>\n",
       "    </tr>\n",
       "  </thead>\n",
       "  <tbody>\n",
       "    <tr>\n",
       "      <th>0</th>\n",
       "      <td>George Washington National Forest</td>\n",
       "      <td>ph</td>\n",
       "      <td>[[&lt;xarray.DataArray ()&gt; Size: 4B\\narray(5.1427...</td>\n",
       "      <td>[[&lt;xarray.DataArray ()&gt; Size: 4B\\narray(394., ...</td>\n",
       "      <td>[[&lt;xarray.DataArray 'slope' ()&gt; Size: 4B\\narra...</td>\n",
       "      <td>pr</td>\n",
       "      <td>rcp45</td>\n",
       "      <td>2096</td>\n",
       "      <td>[[[&lt;xarray.DataArray 'precipitation' ()&gt; Size:...</td>\n",
       "    </tr>\n",
       "    <tr>\n",
       "      <th>1</th>\n",
       "      <td>George Washington National Forest</td>\n",
       "      <td>ph</td>\n",
       "      <td>[[&lt;xarray.DataArray ()&gt; Size: 4B\\narray(5.1427...</td>\n",
       "      <td>[[&lt;xarray.DataArray ()&gt; Size: 4B\\narray(394., ...</td>\n",
       "      <td>[[&lt;xarray.DataArray 'slope' ()&gt; Size: 4B\\narra...</td>\n",
       "      <td>pr</td>\n",
       "      <td>rcp85</td>\n",
       "      <td>2096</td>\n",
       "      <td>[[[&lt;xarray.DataArray 'precipitation' ()&gt; Size:...</td>\n",
       "    </tr>\n",
       "    <tr>\n",
       "      <th>2</th>\n",
       "      <td>Jefferson National Forest</td>\n",
       "      <td>ph</td>\n",
       "      <td>[[&lt;xarray.DataArray ()&gt; Size: 4B\\narray(4.7129...</td>\n",
       "      <td>[[&lt;xarray.DataArray ()&gt; Size: 4B\\narray(366., ...</td>\n",
       "      <td>[[&lt;xarray.DataArray 'slope' ()&gt; Size: 4B\\narra...</td>\n",
       "      <td>pr</td>\n",
       "      <td>rcp45</td>\n",
       "      <td>2096</td>\n",
       "      <td>[[[&lt;xarray.DataArray 'precipitation' ()&gt; Size:...</td>\n",
       "    </tr>\n",
       "    <tr>\n",
       "      <th>3</th>\n",
       "      <td>Jefferson National Forest</td>\n",
       "      <td>ph</td>\n",
       "      <td>[[&lt;xarray.DataArray ()&gt; Size: 4B\\narray(4.7129...</td>\n",
       "      <td>[[&lt;xarray.DataArray ()&gt; Size: 4B\\narray(366., ...</td>\n",
       "      <td>[[&lt;xarray.DataArray 'slope' ()&gt; Size: 4B\\narra...</td>\n",
       "      <td>pr</td>\n",
       "      <td>rcp85</td>\n",
       "      <td>2096</td>\n",
       "      <td>[[[&lt;xarray.DataArray 'precipitation' ()&gt; Size:...</td>\n",
       "    </tr>\n",
       "  </tbody>\n",
       "</table>\n",
       "</div>"
      ],
      "text/plain": [
       "                           site_name soil_variable  \\\n",
       "0  George Washington National Forest            ph   \n",
       "1  George Washington National Forest            ph   \n",
       "2          Jefferson National Forest            ph   \n",
       "3          Jefferson National Forest            ph   \n",
       "\n",
       "                                             soil_da  \\\n",
       "0  [[<xarray.DataArray ()> Size: 4B\\narray(5.1427...   \n",
       "1  [[<xarray.DataArray ()> Size: 4B\\narray(5.1427...   \n",
       "2  [[<xarray.DataArray ()> Size: 4B\\narray(4.7129...   \n",
       "3  [[<xarray.DataArray ()> Size: 4B\\narray(4.7129...   \n",
       "\n",
       "                                        elevation_da  \\\n",
       "0  [[<xarray.DataArray ()> Size: 4B\\narray(394., ...   \n",
       "1  [[<xarray.DataArray ()> Size: 4B\\narray(394., ...   \n",
       "2  [[<xarray.DataArray ()> Size: 4B\\narray(366., ...   \n",
       "3  [[<xarray.DataArray ()> Size: 4B\\narray(366., ...   \n",
       "\n",
       "                                            slope_da climate_variable  \\\n",
       "0  [[<xarray.DataArray 'slope' ()> Size: 4B\\narra...               pr   \n",
       "1  [[<xarray.DataArray 'slope' ()> Size: 4B\\narra...               pr   \n",
       "2  [[<xarray.DataArray 'slope' ()> Size: 4B\\narra...               pr   \n",
       "3  [[<xarray.DataArray 'slope' ()> Size: 4B\\narra...               pr   \n",
       "\n",
       "  climate_scenario  start_year  \\\n",
       "0            rcp45        2096   \n",
       "1            rcp85        2096   \n",
       "2            rcp45        2096   \n",
       "3            rcp85        2096   \n",
       "\n",
       "                                          climate_da  \n",
       "0  [[[<xarray.DataArray 'precipitation' ()> Size:...  \n",
       "1  [[[<xarray.DataArray 'precipitation' ()> Size:...  \n",
       "2  [[[<xarray.DataArray 'precipitation' ()> Size:...  \n",
       "3  [[[<xarray.DataArray 'precipitation' ()> Size:...  "
      ]
     },
     "execution_count": 58,
     "metadata": {},
     "output_type": "execute_result"
    }
   ],
   "source": [
    "forest_df"
   ]
  },
  {
   "cell_type": "code",
   "execution_count": 69,
   "metadata": {},
   "outputs": [
    {
     "name": "stdout",
     "output_type": "stream",
     "text": [
      "Stored 'forest_df' (DataFrame)\n"
     ]
    }
   ],
   "source": [
    "%store forest_df"
   ]
  },
  {
   "cell_type": "code",
   "execution_count": 49,
   "metadata": {},
   "outputs": [],
   "source": [
    "def print_raster(raster):\n",
    "    print(\n",
    "        f\"shape: {raster.rio.shape}\\n\"\n",
    "        f\"resolution: {raster.rio.resolution()}\\n\"\n",
    "        f\"bounds: {raster.rio.bounds()}\\n\"\n",
    "        f\"sum: {raster.sum().item()}\\n\"\n",
    "        f\"CRS: {raster.rio.crs}\\n\"\n",
    "    )"
   ]
  }
 ],
 "metadata": {
  "kernelspec": {
   "display_name": "earth-analytics-python",
   "language": "python",
   "name": "python3"
  },
  "language_info": {
   "codemirror_mode": {
    "name": "ipython",
    "version": 3
   },
   "file_extension": ".py",
   "mimetype": "text/x-python",
   "name": "python",
   "nbconvert_exporter": "python",
   "pygments_lexer": "ipython3",
   "version": "3.11.10"
  }
 },
 "nbformat": 4,
 "nbformat_minor": 2
}
