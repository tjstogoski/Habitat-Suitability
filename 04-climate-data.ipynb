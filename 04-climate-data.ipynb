{
 "cells": [
  {
   "cell_type": "code",
   "execution_count": 1,
   "metadata": {},
   "outputs": [],
   "source": [
    "%store -r"
   ]
  },
  {
   "cell_type": "code",
   "execution_count": 2,
   "metadata": {},
   "outputs": [],
   "source": [
    "import os\n",
    "import pathlib\n",
    "from glob import glob\n",
    "\n",
    "import geopandas as gpd\n",
    "import matplotlib.pyplot as plt\n",
    "import pandas as pd\n",
    "import rioxarray as rxr\n",
    "import rioxarray.merge as rxrmerge\n",
    "import xarray as xr"
   ]
  },
  {
   "cell_type": "markdown",
   "metadata": {},
   "source": [
    "# Climate Data\n",
    "At least one climate variable from the MACAv2 THREDDS data server. Your project should compare two climate scenarios of your choice (e.g. different time periods, different emission scenarios). You can find a tutorial on how to access these climate data on earthdatascience.org"
   ]
  },
  {
   "cell_type": "code",
   "execution_count": 3,
   "metadata": {},
   "outputs": [],
   "source": [
    "def convert_longitude(longitude):\n",
    "    \"\"\"Convert longitude range from 0-360 to [-180:180]\"\"\"\n",
    "    return (longitude - 360) if longitude > 180 else longitude"
   ]
  },
  {
   "cell_type": "code",
   "execution_count": 4,
   "metadata": {},
   "outputs": [],
   "source": [
    "def MACAv2_data(variable, scenario, start_year, site_gdf):\n",
    "    end_year = 2099 if start_year == 2096 else (start_year + 4)\n",
    "    maca_url = (\n",
    "        'http://thredds.northwestknowledge.net:8080/thredds/dodsC/MACAV2/BNU-ESM'\n",
    "        f'/macav2metdata_{variable}_BNU-ESM_r1i1p1_'\n",
    "        f'{scenario}_{start_year}_{end_year}_CONUS_monthly.nc')\n",
    "    maca_da = xr.open_dataset(maca_url).squeeze().precipitation\n",
    "    bounds = site_gdf.to_crs(maca_da.rio.crs).total_bounds\n",
    "    # Reassign coordinates to [-180:180]\n",
    "    maca_da = maca_da.assign_coords(\n",
    "        lon=(\"lon\", [convert_longitude(l) for l in maca_da.lon.values])\n",
    "    )\n",
    "    maca_da = maca_da.rio.set_spatial_dims(x_dim='lon', y_dim='lat')\n",
    "    maca_da = maca_da.rio.clip_box(*bounds)\n",
    "\n",
    "\n",
    "    return maca_da\n"
   ]
  },
  {
   "cell_type": "code",
   "execution_count": 5,
   "metadata": {},
   "outputs": [
    {
     "data": {
      "text/plain": [
       "[{'site_name': 'George Washington National Forest',\n",
       "  'climate_variable': 'pr',\n",
       "  'climate_scenario': 'rcp45',\n",
       "  'start_year': 2096,\n",
       "  'climate_da': <xarray.DataArray 'precipitation' (time: 48, lat: 40, lon: 50)> Size: 384kB\n",
       "  [96000 values with dtype=float32]\n",
       "  Coordinates:\n",
       "    * lat      (lat) float64 320B 37.52 37.56 37.6 37.65 ... 39.06 39.1 39.15\n",
       "    * time     (time) object 384B 2096-01-15 00:00:00 ... 2099-12-15 00:00:00\n",
       "    * lon      (lon) float64 400B -80.31 -80.27 -80.23 ... -78.36 -78.31 -78.27\n",
       "      crs      int64 8B 0\n",
       "  Attributes:\n",
       "      long_name:      Monthly Precipitation Amount\n",
       "      units:          mm\n",
       "      standard_name:  precipitation\n",
       "      cell_methods:   time: sum(interval: 24 hours): sum over days\n",
       "      comments:       Total monthly precipitation at surface: includes both liq...\n",
       "      _ChunkSizes:    [  8 115 276]},\n",
       " {'site_name': 'George Washington National Forest',\n",
       "  'climate_variable': 'pr',\n",
       "  'climate_scenario': 'rcp85',\n",
       "  'start_year': 2096,\n",
       "  'climate_da': <xarray.DataArray 'precipitation' (time: 48, lat: 40, lon: 50)> Size: 384kB\n",
       "  [96000 values with dtype=float32]\n",
       "  Coordinates:\n",
       "    * lat      (lat) float64 320B 37.52 37.56 37.6 37.65 ... 39.06 39.1 39.15\n",
       "    * time     (time) object 384B 2096-01-15 00:00:00 ... 2099-12-15 00:00:00\n",
       "    * lon      (lon) float64 400B -80.31 -80.27 -80.23 ... -78.36 -78.31 -78.27\n",
       "      crs      int64 8B 0\n",
       "  Attributes:\n",
       "      long_name:      Monthly Precipitation Amount\n",
       "      units:          mm\n",
       "      standard_name:  precipitation\n",
       "      cell_methods:   time: sum(interval: 24 hours): sum over days\n",
       "      comments:       Total monthly precipitation at surface: includes both liq...\n",
       "      _ChunkSizes:    [  8 115 276]},\n",
       " {'site_name': 'Jefferson National Forest',\n",
       "  'climate_variable': 'pr',\n",
       "  'climate_scenario': 'rcp45',\n",
       "  'start_year': 2096,\n",
       "  'climate_da': <xarray.DataArray 'precipitation' (time: 48, lat: 30, lon: 90)> Size: 518kB\n",
       "  [129600 values with dtype=float32]\n",
       "  Coordinates:\n",
       "    * lat      (lat) float64 240B 36.6 36.65 36.69 36.73 ... 37.73 37.77 37.81\n",
       "    * time     (time) object 384B 2096-01-15 00:00:00 ... 2099-12-15 00:00:00\n",
       "    * lon      (lon) float64 720B -83.06 -83.02 -82.98 ... -79.44 -79.4 -79.36\n",
       "      crs      int64 8B 0\n",
       "  Attributes:\n",
       "      long_name:      Monthly Precipitation Amount\n",
       "      units:          mm\n",
       "      standard_name:  precipitation\n",
       "      cell_methods:   time: sum(interval: 24 hours): sum over days\n",
       "      comments:       Total monthly precipitation at surface: includes both liq...\n",
       "      _ChunkSizes:    [  8 115 276]},\n",
       " {'site_name': 'Jefferson National Forest',\n",
       "  'climate_variable': 'pr',\n",
       "  'climate_scenario': 'rcp85',\n",
       "  'start_year': 2096,\n",
       "  'climate_da': <xarray.DataArray 'precipitation' (time: 48, lat: 30, lon: 90)> Size: 518kB\n",
       "  [129600 values with dtype=float32]\n",
       "  Coordinates:\n",
       "    * lat      (lat) float64 240B 36.6 36.65 36.69 36.73 ... 37.73 37.77 37.81\n",
       "    * time     (time) object 384B 2096-01-15 00:00:00 ... 2099-12-15 00:00:00\n",
       "    * lon      (lon) float64 720B -83.06 -83.02 -82.98 ... -79.44 -79.4 -79.36\n",
       "      crs      int64 8B 0\n",
       "  Attributes:\n",
       "      long_name:      Monthly Precipitation Amount\n",
       "      units:          mm\n",
       "      standard_name:  precipitation\n",
       "      cell_methods:   time: sum(interval: 24 hours): sum over days\n",
       "      comments:       Total monthly precipitation at surface: includes both liq...\n",
       "      _ChunkSizes:    [  8 115 276]}]"
      ]
     },
     "execution_count": 5,
     "metadata": {},
     "output_type": "execute_result"
    }
   ],
   "source": [
    "variable_list = ['pr']\n",
    "scenario_list = ['rcp45', 'rcp85']\n",
    "start_year_list = [2096]\n",
    "\n",
    "maca_da_list = []\n",
    "for site in site_list:\n",
    "    for variable in variable_list:\n",
    "        for scenario in scenario_list:\n",
    "            for start_year in start_year_list:\n",
    "                maca_da = MACAv2_data(variable, scenario, start_year, site)\n",
    "\n",
    "                maca_da_list.append(dict(\n",
    "                    site_name=site.FORESTNAME.values[0],\n",
    "                    climate_variable=variable,\n",
    "                    climate_scenario=scenario,\n",
    "                    start_year=start_year,\n",
    "                    climate_da=maca_da))\n",
    "\n",
    "maca_da_list"
   ]
  },
  {
   "cell_type": "code",
   "execution_count": 6,
   "metadata": {},
   "outputs": [
    {
     "name": "stdout",
     "output_type": "stream",
     "text": [
      "<class 'pandas.core.frame.DataFrame'>\n",
      "RangeIndex: 4 entries, 0 to 3\n",
      "Data columns (total 5 columns):\n",
      " #   Column            Non-Null Count  Dtype \n",
      "---  ------            --------------  ----- \n",
      " 0   site_name         4 non-null      object\n",
      " 1   climate_variable  4 non-null      object\n",
      " 2   climate_scenario  4 non-null      object\n",
      " 3   start_year        4 non-null      int64 \n",
      " 4   climate_da        4 non-null      object\n",
      "dtypes: int64(1), object(4)\n",
      "memory usage: 292.0+ bytes\n"
     ]
    }
   ],
   "source": [
    "MACAv2_df = pd.DataFrame(maca_da_list)\n",
    "MACAv2_df.info()"
   ]
  },
  {
   "cell_type": "code",
   "execution_count": 7,
   "metadata": {},
   "outputs": [
    {
     "name": "stdout",
     "output_type": "stream",
     "text": [
      "Stored 'MACAv2_df' (DataFrame)\n"
     ]
    }
   ],
   "source": [
    "%store MACAv2_df"
   ]
  }
 ],
 "metadata": {
  "kernelspec": {
   "display_name": "earth-analytics-python",
   "language": "python",
   "name": "python3"
  },
  "language_info": {
   "codemirror_mode": {
    "name": "ipython",
    "version": 3
   },
   "file_extension": ".py",
   "mimetype": "text/x-python",
   "name": "python",
   "nbconvert_exporter": "python",
   "pygments_lexer": "ipython3",
   "version": "3.11.10"
  }
 },
 "nbformat": 4,
 "nbformat_minor": 2
}
